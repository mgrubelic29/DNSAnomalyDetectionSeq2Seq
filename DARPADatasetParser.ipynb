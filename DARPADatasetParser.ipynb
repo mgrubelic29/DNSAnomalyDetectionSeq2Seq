{
  "nbformat": 4,
  "nbformat_minor": 0,
  "metadata": {
    "colab": {
      "name": "DARPADatasetParser.ipynb",
      "provenance": [],
      "collapsed_sections": [],
      "machine_shape": "hm"
    },
    "kernelspec": {
      "name": "python3",
      "display_name": "Python 3"
    }
  },
  "cells": [
    {
      "cell_type": "code",
      "metadata": {
        "id": "6y_wJQOV8rgH",
        "colab_type": "code",
        "colab": {}
      },
      "source": [
        "from google.colab import files\n",
        "\n",
        "uploaded = files.upload()\n",
        "\n",
        "for fn in uploaded.keys():\n",
        "  print('User uploaded file \"{name}\" with length {length} bytes'.format(name = fn, length = len(uploaded[fn])))"
      ],
      "execution_count": 0,
      "outputs": []
    },
    {
      "cell_type": "code",
      "metadata": {
        "id": "VkQQia3IupLi",
        "colab_type": "code",
        "colab": {}
      },
      "source": [
        "!ls"
      ],
      "execution_count": 0,
      "outputs": []
    },
    {
      "cell_type": "markdown",
      "metadata": {
        "id": "QNdJPGDROgt3",
        "colab_type": "text"
      },
      "source": [
        ""
      ]
    },
    {
      "cell_type": "code",
      "metadata": {
        "id": "wGRMFQE86Xhe",
        "colab_type": "code",
        "colab": {}
      },
      "source": [
        "import torch\n",
        "import torch.nn as nn\n",
        "import torch.optim as optim\n",
        "from torch.nn import TransformerEncoder, TransformerEncoderLayer\n",
        "from sklearn.model_selection import train_test_split\n",
        "import pandas as pd\n",
        "import numpy as np\n",
        "import time\n",
        "import os \n",
        "import psutil\n",
        "\n",
        "pd.set_option('display.width', 1000)\n",
        "pd.set_option('display.max_columns', None)\n",
        "\n",
        "# DATA PREPROCESSING------------------------------------------------------------\n",
        "data = pd.read_csv(\"DARPA1999_week1mon\", delimiter=',', header=0, quotechar='\"')\n",
        "tcp_data = data.loc[data['Protocol']=='TCP']\n",
        "\n",
        "# Gets the next input sequence of packets\n",
        "def get_sequence(pos, input_data):\n",
        "    t1 = input_data[pos][1]  # Timestamp of the first packet in the sequence\n",
        "    src1 = input_data[pos][2]  # Source IP of the first packet in the sequence\n",
        "    num_packets = 0  # Store the number of packets in the sequence\n",
        "    sequence = []\n",
        "\n",
        "    for x in range(pos, pos + 320):\n",
        "        # if packet does not have the same source or destination IP as the source of the first one in the sequence\n",
        "        if (input_data[x][2] != src1 and input_data[x][3] != src1 and len(sequence)>3):\n",
        "            break\n",
        "        # if the current one did not happen within 1 second of the first one in the sequence\n",
        "        elif ((input_data[x][1]-t1)>1 and len(sequence)>3):\n",
        "            break\n",
        "        else:\n",
        "            row = input_data[x]\n",
        "            sequence.append(row)  # Append the sequence with the current packet\n",
        "            num_packets = num_packets + 1  # Update the number of packets\n",
        "\n",
        "    return num_packets, sequence"
      ],
      "execution_count": 0,
      "outputs": []
    },
    {
      "cell_type": "markdown",
      "metadata": {
        "id": "CYgex8wiRKlD",
        "colab_type": "text"
      },
      "source": [
        ""
      ]
    },
    {
      "cell_type": "code",
      "metadata": {
        "id": "dsvoL4RlOPKe",
        "colab_type": "code",
        "colab": {}
      },
      "source": [
        "# Split into train, test data\n",
        "train, test = train_test_split(tcp_data, test_size=0.33, random_state=0, shuffle=False)\n",
        "print(\"Train: \\n\", train)\n",
        "np_data = np.array(test)\n",
        "\n",
        "# Get all of the sequences\n",
        "count = 1  # Store the total number of processed packets\n",
        "\n",
        "num_sequences = 0  # Store the total number of sequences\n",
        "\n",
        "all_sequences_df = pd.DataFrame(\n",
        "    columns=[\"No.\", \"Time\", \"Source IP\", \"Destination IP\", \"Protocol\", \"Length\", \"Source Port\", \"Destination Port\"])\n",
        "\n",
        "start_time = time.time()\n",
        "\n",
        "while (count < len(np_data) and len(np_data)-count>3):\n",
        "    num_packets, sequence = get_sequence(count, np_data)  # Get the next sequence\n",
        "    count = count + num_packets  # Update the number of processed packets\n",
        "    print(\"Count: \", count)\n",
        "    print(\"np_data: \", len(np_data))\n",
        "\n",
        "    sequence_df = pd.DataFrame(data=sequence, columns = [\"No.\", \"Time\", \"Source IP\", \"Destination IP\", \"Protocol\", \"Length\", \"Source Port\", \"Destination Port\"])\n",
        "    print('Number of packets in sequence: ', num_packets)\n",
        "    print(\"Sequence: \\n\", sequence_df)\n",
        "    all_sequences_df = all_sequences_df.append(sequence_df)\n",
        "\n",
        "    num_sequences = num_sequences + 1  # Update the number of sequences\n",
        "    print(\"Sequence Number: \", num_sequences)\n",
        "    print(\"=========================================================\\n\")\n",
        "\n",
        "print(\"\\n\\n\\n@@@@@@@@@@@@@@@@@@@@@@@@@@@@@@@@@@@@@@@@@@@@@@@@@\")\n",
        "print(\"-----> FINISHED READING SEQUENCES <-----\")\n",
        "print(\"Time of Execution: %s seconds\" % (time.time() - start_time))"
      ],
      "execution_count": 0,
      "outputs": []
    },
    {
      "cell_type": "code",
      "metadata": {
        "id": "i4HS1mptmfwE",
        "colab_type": "code",
        "colab": {}
      },
      "source": [
        "#print(all_sequences_df)\n",
        "\n",
        "#convert dataframe to csv file \n",
        "#sequenceCSV = all_sequences_df.to_csv(\"/content/SequenceCSV.csv\")\n",
        "\n",
        "import psutil \n",
        "\n",
        "print(psutil.virtual_memory())\n",
        "\n",
        "print(psutil.virtual_memory()[0])\n",
        "print(psutil.virtual_memory()[1])\n",
        "print(psutil.virtual_memory()[2])\n",
        "\n",
        "print(\"Total: \", psutil.virtual_memory()[0] / 1024/1024/1024)"
      ],
      "execution_count": 0,
      "outputs": []
    }
  ]
}